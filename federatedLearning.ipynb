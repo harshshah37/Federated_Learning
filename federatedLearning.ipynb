{
  "nbformat": 4,
  "nbformat_minor": 0,
  "metadata": {
    "colab": {
      "provenance": []
    },
    "kernelspec": {
      "name": "python3",
      "display_name": "Python 3"
    },
    "language_info": {
      "name": "python"
    },
    "gpuClass": "standard"
  },
  "cells": [
    {
      "cell_type": "code",
      "execution_count": null,
      "metadata": {
        "id": "5KZjBzF7_ghz"
      },
      "outputs": [],
      "source": [
        "import urllib.request\n",
        "\n",
        "def download_url(url, save_as):\n",
        "    response = urllib.request.urlopen(url)\n",
        "    data = response.read()\n",
        "    file = open(save_as, 'wb')\n",
        "    file.write(data)\n",
        "    file.close()\n",
        "    response.close()\n",
        "\n",
        "def read_binary_file(file):\n",
        "    f = open(file,'rb')\n",
        "    block = f.read()\n",
        "    return block.decode('utf-16')\n",
        "\n",
        "def split_text_in_lines(text):\n",
        "    return text.split('\\r\\n')\n",
        "\n",
        "def split_by_tabs(line):\n",
        "    return line.split('\\t')"
      ]
    },
    {
      "cell_type": "code",
      "source": [
        "\n",
        "names_link = 'https://archive.ics.uci.edu/ml/machine-learning-databases/acute/diagnosis.names'\n",
        "data_link = 'https://archive.ics.uci.edu/ml/machine-learning-databases/acute/diagnosis.data'\n",
        "diagnosis_names = 'diagnosis.names'\n",
        "diagnosis_data = 'diagnosis.data'\n",
        "download_url(names_link, diagnosis_names)\n",
        "download_url(data_link, diagnosis_data)"
      ],
      "metadata": {
        "id": "cFHnK9z-_4zT"
      },
      "execution_count": null,
      "outputs": []
    },
    {
      "cell_type": "code",
      "source": [
        "import numpy as np\n",
        "\n",
        "def parse_double(field):\n",
        "    field = field.replace(',', '.')\n",
        "    return float(field)\n",
        "\n",
        "def parse_boolean(field):\n",
        "    return 1. if field == 'yes' else 0.\n",
        "\n",
        "def read_np_array(file = diagnosis_data):\n",
        "    text = read_binary_file(file)\n",
        "    lines = split_text_in_lines(text)\n",
        "    rows = []\n",
        "    for line in lines:\n",
        "        if line == '': continue\n",
        "        line = line.replace('\\r\\n', '')\n",
        "        fields = split_by_tabs(line)\n",
        "        row = []\n",
        "        j = 0\n",
        "        for field in fields:\n",
        "            value = parse_double(field) if j == 0 else parse_boolean(field)\n",
        "            row.append(value)\n",
        "            j += 1\n",
        "        rows.append(row)\n",
        "    matrix = np.array(rows, dtype = np.float32)\n",
        "    return matrix"
      ],
      "metadata": {
        "id": "9D3XvB2K_9O5"
      },
      "execution_count": null,
      "outputs": []
    },
    {
      "cell_type": "code",
      "source": [
        "def get_random_indexes(n):\n",
        "    indexes = list(range(n))\n",
        "    random_indexes = []\n",
        "    for i in range(n):\n",
        "        r = np.random.randint(len(indexes))\n",
        "        random_indexes.append(indexes.pop(r))\n",
        "    return random_indexes\n",
        "\n",
        "def get_indexes_for_2_datasets(n, training = 70):\n",
        "    indexes = get_random_indexes(n)\n",
        "    train = int(training / 100. * n)\n",
        "    return indexes[:train], indexes[train:]\n",
        "\n",
        "matrix = read_np_array()\n",
        "n_samples, n_dimensions = matrix.shape\n",
        "\n",
        "train_indexes, test_indexes = get_indexes_for_2_datasets(n_samples)\n",
        "train_data = matrix[train_indexes]\n",
        "test_data = matrix[test_indexes]\n",
        "\n",
        "def print_dataset(name, data):\n",
        "    print('Dataset {}. Shape: {}'.format(name, data.shape))\n",
        "    print(data)"
      ],
      "metadata": {
        "id": "LQfQJshVAAr_"
      },
      "execution_count": null,
      "outputs": []
    },
    {
      "cell_type": "code",
      "source": [
        "print_dataset('Train', train_data)"
      ],
      "metadata": {
        "colab": {
          "base_uri": "https://localhost:8080/"
        },
        "id": "feXQGivQADfx",
        "outputId": "1a074106-2d3c-476b-d8af-0313edc9545d"
      },
      "execution_count": null,
      "outputs": [
        {
          "output_type": "stream",
          "name": "stdout",
          "text": [
            "Dataset Train. Shape: (84, 8)\n",
            "[[40.1  1.   1.   1.   1.   0.   1.   1. ]\n",
            " [37.5  0.   1.   0.   0.   0.   0.   0. ]\n",
            " [40.8  0.   1.   1.   0.   1.   0.   1. ]\n",
            " [36.9  0.   0.   1.   1.   1.   1.   0. ]\n",
            " [36.7  0.   1.   0.   0.   0.   0.   0. ]\n",
            " [36.2  0.   1.   0.   0.   0.   0.   0. ]\n",
            " [36.3  0.   0.   1.   1.   1.   1.   0. ]\n",
            " [37.5  0.   0.   1.   1.   0.   1.   0. ]\n",
            " [37.8  0.   1.   0.   0.   0.   0.   0. ]\n",
            " [40.7  1.   1.   0.   1.   0.   0.   1. ]\n",
            " [37.   0.   0.   1.   1.   0.   1.   0. ]\n",
            " [36.7  0.   0.   1.   1.   1.   1.   0. ]\n",
            " [40.   1.   1.   1.   1.   0.   1.   1. ]\n",
            " [38.9  0.   1.   1.   0.   1.   0.   1. ]\n",
            " [36.6  0.   1.   0.   0.   0.   0.   0. ]\n",
            " [41.2  1.   1.   0.   1.   0.   0.   1. ]\n",
            " [38.7  0.   1.   1.   0.   1.   0.   1. ]\n",
            " [38.5  0.   1.   1.   0.   1.   0.   1. ]\n",
            " [37.6  0.   0.   1.   1.   0.   1.   0. ]\n",
            " [37.3  0.   0.   1.   1.   1.   1.   0. ]\n",
            " [40.9  1.   1.   1.   1.   0.   1.   1. ]\n",
            " [37.2  0.   0.   1.   1.   0.   1.   0. ]\n",
            " [40.2  1.   1.   1.   1.   1.   1.   1. ]\n",
            " [40.6  1.   1.   1.   1.   1.   1.   1. ]\n",
            " [40.2  0.   0.   0.   0.   0.   0.   0. ]\n",
            " [38.   0.   1.   1.   0.   1.   0.   1. ]\n",
            " [37.7  0.   0.   1.   1.   0.   1.   0. ]\n",
            " [37.9  0.   0.   1.   0.   0.   1.   0. ]\n",
            " [40.7  1.   1.   1.   1.   0.   1.   1. ]\n",
            " [41.1  0.   0.   0.   0.   0.   0.   0. ]\n",
            " [41.1  1.   1.   1.   1.   1.   1.   1. ]\n",
            " [37.1  0.   0.   1.   1.   1.   1.   0. ]\n",
            " [36.   0.   0.   1.   1.   1.   1.   0. ]\n",
            " [35.5  0.   1.   0.   0.   0.   0.   0. ]\n",
            " [37.4  0.   1.   0.   0.   0.   0.   0. ]\n",
            " [41.2  1.   1.   1.   1.   1.   1.   1. ]\n",
            " [36.   0.   1.   0.   0.   0.   0.   0. ]\n",
            " [40.4  1.   1.   1.   1.   0.   1.   1. ]\n",
            " [37.6  0.   0.   1.   1.   1.   1.   0. ]\n",
            " [37.   0.   0.   1.   1.   1.   1.   0. ]\n",
            " [37.7  0.   0.   1.   0.   0.   1.   0. ]\n",
            " [37.1  0.   1.   0.   0.   0.   0.   0. ]\n",
            " [40.7  0.   1.   1.   0.   1.   0.   1. ]\n",
            " [41.5  0.   1.   1.   0.   1.   0.   1. ]\n",
            " [37.6  0.   0.   1.   1.   0.   1.   0. ]\n",
            " [37.   0.   0.   1.   1.   0.   1.   0. ]\n",
            " [40.6  1.   1.   0.   1.   0.   0.   1. ]\n",
            " [40.2  1.   1.   0.   1.   0.   0.   1. ]\n",
            " [40.7  1.   1.   1.   1.   1.   1.   1. ]\n",
            " [36.2  0.   0.   1.   1.   1.   1.   0. ]\n",
            " [37.9  0.   0.   1.   1.   1.   1.   0. ]\n",
            " [40.   1.   1.   1.   1.   1.   1.   1. ]\n",
            " [37.5  0.   1.   0.   0.   0.   0.   0. ]\n",
            " [40.9  1.   1.   1.   1.   0.   1.   1. ]\n",
            " [37.   0.   0.   1.   0.   0.   1.   0. ]\n",
            " [37.8  0.   0.   1.   0.   0.   1.   0. ]\n",
            " [37.9  0.   0.   1.   1.   0.   1.   0. ]\n",
            " [37.3  0.   0.   1.   0.   0.   1.   0. ]\n",
            " [40.6  0.   0.   0.   0.   0.   0.   0. ]\n",
            " [37.5  0.   0.   1.   0.   0.   1.   0. ]\n",
            " [37.   0.   0.   1.   1.   1.   1.   0. ]\n",
            " [36.9  0.   1.   0.   0.   0.   0.   0. ]\n",
            " [40.   1.   1.   0.   1.   0.   0.   1. ]\n",
            " [40.5  1.   1.   1.   1.   0.   1.   1. ]\n",
            " [41.1  0.   1.   1.   0.   1.   0.   1. ]\n",
            " [36.7  0.   1.   0.   0.   0.   0.   0. ]\n",
            " [41.1  1.   1.   0.   1.   0.   0.   1. ]\n",
            " [41.   0.   1.   1.   0.   1.   0.   1. ]\n",
            " [37.2  0.   0.   1.   0.   0.   1.   0. ]\n",
            " [41.   1.   1.   0.   1.   0.   0.   1. ]\n",
            " [41.1  1.   1.   1.   1.   0.   1.   1. ]\n",
            " [39.7  0.   1.   1.   0.   1.   0.   1. ]\n",
            " [37.7  0.   1.   0.   0.   0.   0.   0. ]\n",
            " [37.   0.   0.   1.   1.   1.   1.   0. ]\n",
            " [41.   1.   1.   1.   1.   1.   1.   1. ]\n",
            " [36.6  0.   1.   0.   0.   0.   0.   0. ]\n",
            " [40.9  0.   1.   1.   0.   1.   0.   1. ]\n",
            " [41.5  0.   0.   0.   0.   0.   0.   0. ]\n",
            " [40.4  1.   1.   1.   1.   1.   1.   1. ]\n",
            " [35.9  0.   0.   1.   1.   1.   1.   0. ]\n",
            " [38.1  0.   1.   1.   0.   1.   0.   1. ]\n",
            " [36.8  0.   0.   1.   1.   1.   1.   0. ]\n",
            " [37.1  0.   0.   1.   0.   0.   1.   0. ]\n",
            " [40.3  0.   1.   1.   0.   1.   0.   1. ]]\n"
          ]
        }
      ]
    },
    {
      "cell_type": "code",
      "source": [
        "print_dataset('Test', test_data)"
      ],
      "metadata": {
        "colab": {
          "base_uri": "https://localhost:8080/"
        },
        "id": "bSTbTT2-AG0A",
        "outputId": "4c3295bc-f625-4eab-f213-ff1fb781675c"
      },
      "execution_count": null,
      "outputs": [
        {
          "output_type": "stream",
          "name": "stdout",
          "text": [
            "Dataset Test. Shape: (36, 8)\n",
            "[[37.9  0.   1.   0.   0.   0.   0.   0. ]\n",
            " [36.   0.   1.   0.   0.   0.   0.   0. ]\n",
            " [41.5  1.   1.   0.   1.   0.   0.   1. ]\n",
            " [40.   0.   1.   1.   0.   1.   0.   1. ]\n",
            " [40.   0.   0.   0.   0.   0.   0.   0. ]\n",
            " [41.4  0.   1.   1.   0.   1.   0.   1. ]\n",
            " [37.2  0.   1.   0.   0.   0.   0.   0. ]\n",
            " [37.   0.   0.   1.   1.   1.   1.   0. ]\n",
            " [41.2  0.   0.   0.   0.   0.   0.   0. ]\n",
            " [41.   0.   0.   0.   0.   0.   0.   0. ]\n",
            " [39.   0.   1.   1.   0.   1.   0.   1. ]\n",
            " [41.2  0.   1.   1.   0.   1.   0.   1. ]\n",
            " [35.9  0.   1.   0.   0.   0.   0.   0. ]\n",
            " [40.4  0.   0.   0.   0.   0.   0.   0. ]\n",
            " [38.3  0.   1.   1.   0.   1.   0.   1. ]\n",
            " [37.9  0.   0.   1.   1.   0.   1.   0. ]\n",
            " [37.7  0.   0.   1.   1.   0.   1.   0. ]\n",
            " [41.3  1.   1.   1.   1.   0.   1.   1. ]\n",
            " [37.5  0.   0.   1.   0.   0.   1.   0. ]\n",
            " [40.4  1.   1.   0.   1.   0.   0.   1. ]\n",
            " [36.6  0.   0.   1.   1.   1.   1.   0. ]\n",
            " [40.   0.   0.   0.   0.   0.   0.   0. ]\n",
            " [40.7  0.   0.   0.   0.   0.   0.   0. ]\n",
            " [37.4  0.   0.   1.   0.   0.   1.   0. ]\n",
            " [40.   1.   1.   1.   1.   1.   1.   1. ]\n",
            " [40.   1.   1.   0.   1.   0.   0.   1. ]\n",
            " [36.6  0.   0.   1.   1.   1.   1.   0. ]\n",
            " [41.5  0.   1.   1.   0.   1.   0.   1. ]\n",
            " [40.4  1.   1.   1.   1.   0.   1.   1. ]\n",
            " [36.8  0.   0.   1.   1.   1.   1.   0. ]\n",
            " [37.8  0.   0.   1.   1.   1.   1.   0. ]\n",
            " [37.3  0.   1.   0.   0.   0.   0.   0. ]\n",
            " [39.4  0.   1.   1.   0.   1.   0.   1. ]\n",
            " [38.   0.   1.   1.   0.   1.   0.   1. ]\n",
            " [37.   0.   1.   0.   0.   0.   0.   0. ]\n",
            " [37.5  0.   0.   1.   1.   1.   1.   0. ]]\n"
          ]
        }
      ]
    },
    {
      "cell_type": "code",
      "source": [
        "import torch\n",
        "from torch.autograd import Variable\n",
        "import torch.nn as nn\n",
        "import torch.nn.functional as F\n",
        "\n",
        "input_size = 6\n",
        "learning_rate = 0.01\n",
        "num_iterations = 10000\n",
        "\n",
        "class LogisticRegression(torch.nn.Module):\n",
        "\n",
        "    def __init__(self):\n",
        "        super(LogisticRegression, self).__init__()\n",
        "        self.linear = torch.nn.Linear(input_size, 1)\n",
        "\n",
        "    def forward(self, x):\n",
        "        return torch.sigmoid(self.linear(x))"
      ],
      "metadata": {
        "id": "7aJUpeoYAKAM"
      },
      "execution_count": null,
      "outputs": []
    },
    {
      "cell_type": "code",
      "source": [
        "def decide(y):\n",
        "    return 1. if y >= 0.5 else 0.\n",
        "\n",
        "decide_vectorized = np.vectorize(decide)\n",
        "\n",
        "to_percent = lambda x: '{:.2f}%'.format(x)\n",
        "\n",
        "def compute_accuracy(model, input, output):\n",
        "    prediction = model(input).data.numpy()[:, 0]\n",
        "    n_samples = prediction.shape[0] + 0.\n",
        "    prediction = decide_vectorized(prediction)\n",
        "    equal = prediction == output.data.numpy()\n",
        "    return 100. * equal.sum() / n_samples\n",
        "\n",
        "def get_input_and_output(data):\n",
        "    input = Variable(torch.tensor(data[:, :6], dtype = torch.float32))\n",
        "    output1 = Variable(torch.tensor(data[:, 6], dtype = torch.float32))\n",
        "    output2 = Variable(torch.tensor(data[:, 7], dtype = torch.float32))\n",
        "    return input, output1, output2\n",
        "\n",
        "input, output1, output2 = get_input_and_output(train_data)\n",
        "test_input, test_output1, test_output2 = get_input_and_output(test_data)\n",
        "\n",
        "import matplotlib.pyplot as plt\n",
        "%matplotlib inline\n",
        "\n",
        "diagnosis_title1 = 'Inflammation of Urinary Bladder'\n",
        "diagnosis_title2 = 'Nephritis of Renal Pelvis Origin'\n",
        "\n",
        "def plot_graphs(diagnosis_title, losses, accuracies):\n",
        "    plt.plot(losses)\n",
        "    plt.title(f\"{diagnosis_title} - Training Loss\")\n",
        "    plt.xlabel(\"Iterations\")\n",
        "    plt.ylabel(\"Training Loss\")\n",
        "    plt.show()\n",
        "    plt.plot(accuracies)\n",
        "    plt.title(f\"{diagnosis_title} - Training Accuracy\")\n",
        "    plt.xlabel(\"Iterations\")\n",
        "    plt.ylabel(\"Training Accuracy (Percent %)\")\n",
        "    plt.show()\n",
        "\n",
        "def train_model(diagnosis_title, input, output, test_input, test_output):\n",
        "    model = LogisticRegression()\n",
        "    criterion = torch.nn.BCELoss(size_average=True)\n",
        "    optimizer = torch.optim.SGD(model.parameters(), lr=learning_rate)\n",
        "    losses = []\n",
        "    accuracies = []\n",
        "    n_samples, _ = input.shape\n",
        "\n",
        "\n",
        "    for iteration in range(num_iterations):\n",
        "            optimizer.zero_grad()\n",
        "            prediction = model(input)\n",
        "            loss = criterion(prediction, output.unsqueeze(1))\n",
        "            loss.backward()\n",
        "            optimizer.step()\n",
        "            if iteration % 500 == 0:\n",
        "                train_acc = compute_accuracy(model, input, output)\n",
        "                train_loss = loss.item()\n",
        "                losses.append(train_loss)\n",
        "                accuracies.append(train_acc)\n",
        "                print('iteration={}, loss={:.4f}, train_acc={}'.format(iteration, train_loss, to_percent(train_acc)))\n",
        "    plot_graphs(diagnosis_title, losses, accuracies)\n",
        "    test_acc = compute_accuracy(model, test_input, test_output)\n",
        "    print('\\nTesting Accuracy = {}'.format(to_percent(test_acc)))\n",
        "    return model"
      ],
      "metadata": {
        "id": "L6tqp2xiAOeA"
      },
      "execution_count": null,
      "outputs": []
    },
    {
      "cell_type": "code",
      "source": [
        "model = train_model(diagnosis_title1, input, output1, test_input, test_output1)"
      ],
      "metadata": {
        "colab": {
          "base_uri": "https://localhost:8080/",
          "height": 989
        },
        "id": "1gFWNouuAS7y",
        "outputId": "e946587f-2d66-4af8-c07e-da5d93c353d0"
      },
      "execution_count": null,
      "outputs": [
        {
          "output_type": "stream",
          "name": "stderr",
          "text": [
            "/usr/local/lib/python3.7/dist-packages/torch/nn/_reduction.py:43: UserWarning: size_average and reduce args will be deprecated, please use reduction='mean' instead.\n",
            "  warnings.warn(warning.format(ret))\n"
          ]
        },
        {
          "output_type": "stream",
          "name": "stdout",
          "text": [
            "iteration=0, loss=7.0029, train_acc=45.24%\n",
            "iteration=500, loss=1.5874, train_acc=45.24%\n",
            "iteration=1000, loss=1.0175, train_acc=45.24%\n",
            "iteration=1500, loss=0.4275, train_acc=71.43%\n",
            "iteration=2000, loss=0.1754, train_acc=100.00%\n",
            "iteration=2500, loss=0.1587, train_acc=100.00%\n",
            "iteration=3000, loss=0.1452, train_acc=100.00%\n",
            "iteration=3500, loss=0.1340, train_acc=100.00%\n",
            "iteration=4000, loss=0.1245, train_acc=100.00%\n",
            "iteration=4500, loss=0.1164, train_acc=100.00%\n",
            "iteration=5000, loss=0.1092, train_acc=100.00%\n",
            "iteration=5500, loss=0.1030, train_acc=100.00%\n",
            "iteration=6000, loss=0.0974, train_acc=100.00%\n",
            "iteration=6500, loss=0.0925, train_acc=100.00%\n",
            "iteration=7000, loss=0.0880, train_acc=100.00%\n",
            "iteration=7500, loss=0.0839, train_acc=100.00%\n",
            "iteration=8000, loss=0.0803, train_acc=100.00%\n",
            "iteration=8500, loss=0.0769, train_acc=100.00%\n",
            "iteration=9000, loss=0.0738, train_acc=100.00%\n",
            "iteration=9500, loss=0.0710, train_acc=100.00%\n"
          ]
        },
        {
          "output_type": "display_data",
          "data": {
            "text/plain": [
              "<Figure size 432x288 with 1 Axes>"
            ],
            "image/png": "[encoded data removed]"
          },
          "metadata": {
            "needs_background": "light"
          }
        },
        {
          "output_type": "display_data",
          "data": {
            "text/plain": [
              "<Figure size 432x288 with 1 Axes>"
            ],
            "image/png": "[encoded data removed]"
          },
          "metadata": {
            "needs_background": "light"
          }
        },
        {
          "output_type": "stream",
          "name": "stdout",
          "text": [
            "\n",
            "Testing Accuracy = 100.00%\n"
          ]
        }
      ]
    },
    {
      "cell_type": "code",
      "source": [
        "model = train_model(diagnosis_title2, input, output2, test_input, test_output2)"
      ],
      "metadata": {
        "colab": {
          "base_uri": "https://localhost:8080/",
          "height": 955
        },
        "id": "cSkzQ3KxKe4G",
        "outputId": "50cd7042-b25f-4e74-c478-e82d0dc8d55c"
      },
      "execution_count": null,
      "outputs": [
        {
          "output_type": "stream",
          "name": "stdout",
          "text": [
            "iteration=0, loss=5.5991, train_acc=57.14%\n",
            "iteration=500, loss=0.9881, train_acc=57.14%\n",
            "iteration=1000, loss=0.8310, train_acc=57.14%\n",
            "iteration=1500, loss=0.5229, train_acc=66.67%\n",
            "iteration=2000, loss=0.2020, train_acc=100.00%\n",
            "iteration=2500, loss=0.1853, train_acc=100.00%\n",
            "iteration=3000, loss=0.1714, train_acc=100.00%\n",
            "iteration=3500, loss=0.1597, train_acc=100.00%\n",
            "iteration=4000, loss=0.1497, train_acc=100.00%\n",
            "iteration=4500, loss=0.1409, train_acc=100.00%\n",
            "iteration=5000, loss=0.1332, train_acc=100.00%\n",
            "iteration=5500, loss=0.1263, train_acc=100.00%\n",
            "iteration=6000, loss=0.1202, train_acc=100.00%\n",
            "iteration=6500, loss=0.1147, train_acc=100.00%\n",
            "iteration=7000, loss=0.1097, train_acc=100.00%\n",
            "iteration=7500, loss=0.1051, train_acc=100.00%\n",
            "iteration=8000, loss=0.1009, train_acc=100.00%\n",
            "iteration=8500, loss=0.0970, train_acc=100.00%\n",
            "iteration=9000, loss=0.0935, train_acc=100.00%\n",
            "iteration=9500, loss=0.0902, train_acc=100.00%\n"
          ]
        },
        {
          "output_type": "display_data",
          "data": {
            "text/plain": [
              "<Figure size 432x288 with 1 Axes>"
            ],
            "image/png": "[encoded data removed]"
          },
          "metadata": {
            "needs_background": "light"
          }
        },
        {
          "output_type": "display_data",
          "data": {
            "text/plain": [
              "<Figure size 432x288 with 1 Axes>"
            ],
            "image/png": "[encoded data removed]"
          },
          "metadata": {
            "needs_background": "light"
          }
        },
        {
          "output_type": "stream",
          "name": "stdout",
          "text": [
            "\n",
            "Testing Accuracy = 100.00%\n"
          ]
        }
      ]
    },
    {
      "cell_type": "code",
      "source": [
        "pip install syft"
      ],
      "metadata": {
        "colab": {
          "base_uri": "https://localhost:8080/",
          "height": 1000
        },
        "id": "yCVttqWJKqe9",
        "outputId": "003ebfe6-6c3a-42f6-b99e-2c23a4129edf"
      },
      "execution_count": null,
      "outputs": [
        {
          "output_type": "stream",
          "name": "stdout",
          "text": [
            "Looking in indexes: https://pypi.org/simple, https://us-python.pkg.dev/colab-wheels/public/simple/\n",
            "Collecting syft\n",
            "  Downloading syft-0.6.0-py2.py3-none-any.whl (606 kB)\n",
            "\u001b[K     |████████████████████████████████| 606 kB 38.3 MB/s \n",
            "\u001b[?25hCollecting pandas==1.3.4\n",
            "  Downloading pandas-1.3.4-cp37-cp37m-manylinux_2_17_x86_64.manylinux2014_x86_64.whl (11.3 MB)\n",
            "\u001b[K     |████████████████████████████████| 11.3 MB 42.5 MB/s \n",
            "\u001b[?25hCollecting werkzeug==2.0.2\n",
            "  Downloading Werkzeug-2.0.2-py3-none-any.whl (288 kB)\n",
            "\u001b[K     |████████████████████████████████| 288 kB 73.4 MB/s \n",
            "\u001b[?25hCollecting typing-extensions==4.0.0\n",
            "  Downloading typing_extensions-4.0.0-py3-none-any.whl (22 kB)\n",
            "Collecting gevent==21.8.0\n",
            "  Downloading gevent-21.8.0-cp37-cp37m-manylinux_2_12_x86_64.manylinux2010_x86_64.whl (5.8 MB)\n",
            "\u001b[K     |████████████████████████████████| 5.8 MB 53.9 MB/s \n",
            "\u001b[?25hCollecting forbiddenfruit==0.1.4\n",
            "  Downloading forbiddenfruit-0.1.4.tar.gz (43 kB)\n",
            "\u001b[K     |████████████████████████████████| 43 kB 2.7 MB/s \n",
            "\u001b[?25hCollecting ascii-magic==1.6\n",
            "  Downloading ascii_magic-1.6-py3-none-any.whl (7.6 kB)\n",
            "Collecting tqdm==4.62.3\n",
            "  Downloading tqdm-4.62.3-py2.py3-none-any.whl (76 kB)\n",
            "\u001b[K     |████████████████████████████████| 76 kB 4.9 MB/s \n",
            "\u001b[?25hCollecting bcrypt==3.2.0\n",
            "  Downloading bcrypt-3.2.0-cp36-abi3-manylinux_2_17_x86_64.manylinux2014_x86_64.manylinux_2_24_x86_64.whl (61 kB)\n",
            "\u001b[K     |████████████████████████████████| 61 kB 481 kB/s \n",
            "\u001b[?25hCollecting importlib-metadata==4.8.2\n",
            "  Downloading importlib_metadata-4.8.2-py3-none-any.whl (17 kB)\n",
            "Collecting requests==2.26.0\n",
            "  Downloading requests-2.26.0-py2.py3-none-any.whl (62 kB)\n",
            "\u001b[K     |████████████████████████████████| 62 kB 903 kB/s \n",
            "\u001b[?25hCollecting PyNaCl==1.4.0\n",
            "  Downloading PyNaCl-1.4.0-cp35-abi3-manylinux1_x86_64.whl (961 kB)\n",
            "\u001b[K     |████████████████████████████████| 961 kB 34.6 MB/s \n",
            "\u001b[?25hCollecting pymbolic==2021.1\n",
            "  Downloading pymbolic-2021.1.tar.gz (84 kB)\n",
            "\u001b[K     |████████████████████████████████| 84 kB 4.3 MB/s \n",
            "\u001b[?25hCollecting loguru==0.5.3\n",
            "  Downloading loguru-0.5.3-py3-none-any.whl (57 kB)\n",
            "\u001b[K     |████████████████████████████████| 57 kB 5.7 MB/s \n",
            "\u001b[?25hRequirement already satisfied: cachetools==4.2.4 in /usr/local/lib/python3.7/dist-packages (from syft) (4.2.4)\n",
            "Collecting PyJWT==2.3.0\n",
            "  Downloading PyJWT-2.3.0-py3-none-any.whl (16 kB)\n",
            "Collecting packaging==21.2\n",
            "  Downloading packaging-21.2-py3-none-any.whl (40 kB)\n",
            "\u001b[K     |████████████████████████████████| 40 kB 7.3 MB/s \n",
            "\u001b[?25hCollecting protobuf==3.19.1\n",
            "  Downloading protobuf-3.19.1-cp37-cp37m-manylinux_2_17_x86_64.manylinux2014_x86_64.whl (1.1 MB)\n",
            "\u001b[K     |████████████████████████████████| 1.1 MB 65.4 MB/s \n",
            "\u001b[?25hCollecting torch<=1.10.0,>=1.8.1\n",
            "  Downloading torch-1.10.0-cp37-cp37m-manylinux1_x86_64.whl (881.9 MB)\n",
            "\u001b[K     |██████████████████████████████▎ | 834.1 MB 1.1 MB/s eta 0:00:42tcmalloc: large alloc 1147494400 bytes == 0x3ac4000 @  0x7f01f69a1615 0x58ead6 0x4f355e 0x4d222f 0x51041f 0x5b4ee6 0x58ff2e 0x510325 0x5b4ee6 0x58ff2e 0x50d482 0x4d00fb 0x50cb8d 0x4d00fb 0x50cb8d 0x4d00fb 0x50cb8d 0x4bac0a 0x538a76 0x590ae5 0x510280 0x5b4ee6 0x58ff2e 0x50d482 0x5b4ee6 0x58ff2e 0x50c4fc 0x58fd37 0x50ca37 0x5b4ee6 0x58ff2e\n",
            "\u001b[K     |████████████████████████████████| 881.9 MB 19 kB/s \n",
            "\u001b[?25hCollecting SQLAlchemy==1.4.27\n",
            "  Downloading SQLAlchemy-1.4.27-cp37-cp37m-manylinux_2_5_x86_64.manylinux1_x86_64.manylinux_2_17_x86_64.manylinux2014_x86_64.whl (1.6 MB)\n",
            "\u001b[K     |████████████████████████████████| 1.6 MB 59.1 MB/s \n",
            "\u001b[?25hCollecting numpy==1.21.4\n",
            "  Downloading numpy-1.21.4-cp37-cp37m-manylinux_2_12_x86_64.manylinux2010_x86_64.whl (15.7 MB)\n",
            "\u001b[K     |████████████████████████████████| 15.7 MB 11.9 MB/s \n",
            "\u001b[?25hCollecting pyarrow==6.0.0\n",
            "  Downloading pyarrow-6.0.0-cp37-cp37m-manylinux_2_17_x86_64.manylinux2014_x86_64.whl (25.5 MB)\n",
            "\u001b[K     |████████████████████████████████| 25.5 MB 1.4 MB/s \n",
            "\u001b[?25hCollecting requests-toolbelt==0.9.1\n",
            "  Downloading requests_toolbelt-0.9.1-py2.py3-none-any.whl (54 kB)\n",
            "\u001b[K     |████████████████████████████████| 54 kB 3.2 MB/s \n",
            "\u001b[?25hCollecting pydantic[email]==1.8.2\n",
            "  Downloading pydantic-1.8.2-cp37-cp37m-manylinux2014_x86_64.whl (10.1 MB)\n",
            "\u001b[K     |████████████████████████████████| 10.1 MB 55.6 MB/s \n",
            "\u001b[?25hCollecting names==0.3.0\n",
            "  Downloading names-0.3.0.tar.gz (789 kB)\n",
            "\u001b[K     |████████████████████████████████| 789 kB 69.9 MB/s \n",
            "\u001b[?25hCollecting autodp==0.2\n",
            "  Downloading autodp-0.2.tar.gz (39 kB)\n",
            "Collecting sympy==1.9\n",
            "  Downloading sympy-1.9-py3-none-any.whl (6.2 MB)\n",
            "\u001b[K     |████████████████████████████████| 6.2 MB 55.3 MB/s \n",
            "\u001b[?25hCollecting colorama\n",
            "  Downloading colorama-0.4.6-py2.py3-none-any.whl (25 kB)\n",
            "Requirement already satisfied: Pillow in /usr/local/lib/python3.7/dist-packages (from ascii-magic==1.6->syft) (7.1.2)\n",
            "Requirement already satisfied: scipy in /usr/local/lib/python3.7/dist-packages (from autodp==0.2->syft) (1.7.3)\n",
            "Requirement already satisfied: six>=1.4.1 in /usr/local/lib/python3.7/dist-packages (from bcrypt==3.2.0->syft) (1.15.0)\n",
            "Requirement already satisfied: cffi>=1.1 in /usr/local/lib/python3.7/dist-packages (from bcrypt==3.2.0->syft) (1.15.1)\n",
            "Requirement already satisfied: setuptools in /usr/local/lib/python3.7/dist-packages (from gevent==21.8.0->syft) (57.4.0)\n",
            "Collecting zope.event\n",
            "  Downloading zope.event-4.5.0-py2.py3-none-any.whl (6.8 kB)\n",
            "Requirement already satisfied: greenlet<2.0,>=1.1.0 in /usr/local/lib/python3.7/dist-packages (from gevent==21.8.0->syft) (1.1.3.post0)\n",
            "Collecting zope.interface\n",
            "  Downloading zope.interface-5.5.0-cp37-cp37m-manylinux_2_5_x86_64.manylinux1_x86_64.manylinux_2_12_x86_64.manylinux2010_x86_64.whl (254 kB)\n",
            "\u001b[K     |████████████████████████████████| 254 kB 73.1 MB/s \n",
            "\u001b[?25hRequirement already satisfied: zipp>=0.5 in /usr/local/lib/python3.7/dist-packages (from importlib-metadata==4.8.2->syft) (3.10.0)\n",
            "Collecting pyparsing<3,>=2.0.2\n",
            "  Downloading pyparsing-2.4.7-py2.py3-none-any.whl (67 kB)\n",
            "\u001b[K     |████████████████████████████████| 67 kB 7.5 MB/s \n",
            "\u001b[?25hRequirement already satisfied: pytz>=2017.3 in /usr/local/lib/python3.7/dist-packages (from pandas==1.3.4->syft) (2022.5)\n",
            "Requirement already satisfied: python-dateutil>=2.7.3 in /usr/local/lib/python3.7/dist-packages (from pandas==1.3.4->syft) (2.8.2)\n",
            "Collecting email-validator>=1.0.3\n",
            "  Downloading email_validator-1.3.0-py2.py3-none-any.whl (22 kB)\n",
            "Collecting pytools>=2\n",
            "  Downloading pytools-2022.1.12.tar.gz (70 kB)\n",
            "\u001b[K     |████████████████████████████████| 70 kB 9.4 MB/s \n",
            "\u001b[?25hRequirement already satisfied: pytest>=2.3 in /usr/local/lib/python3.7/dist-packages (from pymbolic==2021.1->syft) (3.6.4)\n",
            "Requirement already satisfied: urllib3<1.27,>=1.21.1 in /usr/local/lib/python3.7/dist-packages (from requests==2.26.0->syft) (1.24.3)\n",
            "Collecting charset-normalizer~=2.0.0\n",
            "  Downloading charset_normalizer-2.0.12-py3-none-any.whl (39 kB)\n",
            "Requirement already satisfied: idna<4,>=2.5 in /usr/local/lib/python3.7/dist-packages (from requests==2.26.0->syft) (2.10)\n",
            "Requirement already satisfied: certifi>=2017.4.17 in /usr/local/lib/python3.7/dist-packages (from requests==2.26.0->syft) (2022.9.24)\n",
            "Requirement already satisfied: mpmath>=0.19 in /usr/local/lib/python3.7/dist-packages (from sympy==1.9->syft) (1.2.1)\n",
            "Requirement already satisfied: pycparser in /usr/local/lib/python3.7/dist-packages (from cffi>=1.1->bcrypt==3.2.0->syft) (2.21)\n",
            "Requirement already satisfied: dnspython>=1.15.0 in /usr/local/lib/python3.7/dist-packages (from email-validator>=1.0.3->pydantic[email]==1.8.2->syft) (2.2.1)\n",
            "Requirement already satisfied: pluggy<0.8,>=0.5 in /usr/local/lib/python3.7/dist-packages (from pytest>=2.3->pymbolic==2021.1->syft) (0.7.1)\n",
            "Requirement already satisfied: py>=1.5.0 in /usr/local/lib/python3.7/dist-packages (from pytest>=2.3->pymbolic==2021.1->syft) (1.11.0)\n",
            "Requirement already satisfied: attrs>=17.4.0 in /usr/local/lib/python3.7/dist-packages (from pytest>=2.3->pymbolic==2021.1->syft) (22.1.0)\n",
            "Requirement already satisfied: atomicwrites>=1.0 in /usr/local/lib/python3.7/dist-packages (from pytest>=2.3->pymbolic==2021.1->syft) (1.4.1)\n",
            "Requirement already satisfied: more-itertools>=4.0.0 in /usr/local/lib/python3.7/dist-packages (from pytest>=2.3->pymbolic==2021.1->syft) (9.0.0)\n",
            "Collecting platformdirs>=2.2.0\n",
            "  Downloading platformdirs-2.5.2-py3-none-any.whl (14 kB)\n",
            "Building wheels for collected packages: autodp, forbiddenfruit, names, pymbolic, pytools\n",
            "  Building wheel for autodp (setup.py) ... \u001b[?25l\u001b[?25hdone\n",
            "  Created wheel for autodp: filename=autodp-0.2-py3-none-any.whl size=42458 sha256=639d2f78cd0908b721daab65583825b4aa685f9f4df7435057a4f2ae6ccc4219\n",
            "  Stored in directory: /root/.cache/pip/wheels/6a/95/85/6a1fc999268b5ed5aaeb387ff91f0063698b8a4db55e5c38c5\n",
            "  Building wheel for forbiddenfruit (setup.py) ... \u001b[?25l\u001b[?25hdone\n",
            "  Created wheel for forbiddenfruit: filename=forbiddenfruit-0.1.4-py3-none-any.whl size=21810 sha256=bb7a05457f6a5c1f5d9aa1e2f7bb3b757c8702a0f016265f919e398861779e0d\n",
            "  Stored in directory: /root/.cache/pip/wheels/ab/b1/d4/d715c0964da2cbf9f773760b9cf9352405eb4e6a988ffd2606\n",
            "  Building wheel for names (setup.py) ... \u001b[?25l\u001b[?25hdone\n",
            "  Created wheel for names: filename=names-0.3.0-py3-none-any.whl size=803699 sha256=79a53acbada03c488e6ce12eeaac636c0b472cb0cdaf3d6dd6fc1bde562b7cca\n",
            "  Stored in directory: /root/.cache/pip/wheels/05/ea/68/92f6b0669e478af9b7c3c524520d03050089e034edcc775c2b\n",
            "  Building wheel for pymbolic (setup.py) ... \u001b[?25l\u001b[?25hdone\n",
            "  Created wheel for pymbolic: filename=pymbolic-2021.1-py3-none-any.whl size=110410 sha256=adda068a2c477767fe1a868db604440ddaf2f7cbd0c3610ea469031500b43f33\n",
            "  Stored in directory: /root/.cache/pip/wheels/2e/f9/34/d75a7263fdb5fd102d58693151064e229acdf1a8640f91e5be\n",
            "  Building wheel for pytools (setup.py) ... \u001b[?25l\u001b[?25hdone\n",
            "  Created wheel for pytools: filename=pytools-2022.1.12-py2.py3-none-any.whl size=65034 sha256=a4d08eff09680728a6031dfa61b3403cf968e39410cbdd6b393f04443251394b\n",
            "  Stored in directory: /root/.cache/pip/wheels/37/5e/9e/76d7430e116b7cab0016fbabb26b896daae1946a3f7dea9915\n",
            "Successfully built autodp forbiddenfruit names pymbolic pytools\n",
            "Installing collected packages: typing-extensions, platformdirs, numpy, charset-normalizer, zope.interface, zope.event, requests, pytools, pyparsing, pydantic, importlib-metadata, email-validator, colorama, werkzeug, tqdm, torch, sympy, SQLAlchemy, requests-toolbelt, PyNaCl, pymbolic, PyJWT, pyarrow, protobuf, pandas, packaging, names, loguru, gevent, forbiddenfruit, bcrypt, autodp, ascii-magic, syft\n",
            "  Attempting uninstall: typing-extensions\n",
            "    Found existing installation: typing-extensions 4.1.1\n",
            "    Uninstalling typing-extensions-4.1.1:\n",
            "      Successfully uninstalled typing-extensions-4.1.1\n",
            "  Attempting uninstall: numpy\n",
            "    Found existing installation: numpy 1.21.6\n",
            "    Uninstalling numpy-1.21.6:\n",
            "      Successfully uninstalled numpy-1.21.6\n",
            "  Attempting uninstall: charset-normalizer\n",
            "    Found existing installation: charset-normalizer 2.1.1\n",
            "    Uninstalling charset-normalizer-2.1.1:\n",
            "      Successfully uninstalled charset-normalizer-2.1.1\n",
            "  Attempting uninstall: requests\n",
            "    Found existing installation: requests 2.23.0\n",
            "    Uninstalling requests-2.23.0:\n",
            "      Successfully uninstalled requests-2.23.0\n",
            "  Attempting uninstall: pyparsing\n",
            "    Found existing installation: pyparsing 3.0.9\n",
            "    Uninstalling pyparsing-3.0.9:\n",
            "      Successfully uninstalled pyparsing-3.0.9\n",
            "  Attempting uninstall: pydantic\n",
            "    Found existing installation: pydantic 1.10.2\n",
            "    Uninstalling pydantic-1.10.2:\n",
            "      Successfully uninstalled pydantic-1.10.2\n",
            "  Attempting uninstall: importlib-metadata\n",
            "    Found existing installation: importlib-metadata 4.13.0\n",
            "    Uninstalling importlib-metadata-4.13.0:\n",
            "      Successfully uninstalled importlib-metadata-4.13.0\n",
            "  Attempting uninstall: werkzeug\n",
            "    Found existing installation: Werkzeug 1.0.1\n",
            "    Uninstalling Werkzeug-1.0.1:\n",
            "      Successfully uninstalled Werkzeug-1.0.1\n",
            "  Attempting uninstall: tqdm\n",
            "    Found existing installation: tqdm 4.64.1\n",
            "    Uninstalling tqdm-4.64.1:\n",
            "      Successfully uninstalled tqdm-4.64.1\n",
            "  Attempting uninstall: torch\n",
            "    Found existing installation: torch 1.12.1+cu113\n",
            "    Uninstalling torch-1.12.1+cu113:\n",
            "      Successfully uninstalled torch-1.12.1+cu113\n",
            "  Attempting uninstall: sympy\n",
            "    Found existing installation: sympy 1.7.1\n",
            "    Uninstalling sympy-1.7.1:\n",
            "      Successfully uninstalled sympy-1.7.1\n",
            "  Attempting uninstall: SQLAlchemy\n",
            "    Found existing installation: SQLAlchemy 1.4.42\n",
            "    Uninstalling SQLAlchemy-1.4.42:\n",
            "      Successfully uninstalled SQLAlchemy-1.4.42\n",
            "  Attempting uninstall: pyarrow\n",
            "    Found existing installation: pyarrow 6.0.1\n",
            "    Uninstalling pyarrow-6.0.1:\n",
            "      Successfully uninstalled pyarrow-6.0.1\n",
            "  Attempting uninstall: protobuf\n",
            "    Found existing installation: protobuf 3.17.3\n",
            "    Uninstalling protobuf-3.17.3:\n",
            "      Successfully uninstalled protobuf-3.17.3\n",
            "  Attempting uninstall: pandas\n",
            "    Found existing installation: pandas 1.3.5\n",
            "    Uninstalling pandas-1.3.5:\n",
            "      Successfully uninstalled pandas-1.3.5\n",
            "  Attempting uninstall: packaging\n",
            "    Found existing installation: packaging 21.3\n",
            "    Uninstalling packaging-21.3:\n",
            "      Successfully uninstalled packaging-21.3\n",
            "\u001b[31mERROR: pip's dependency resolver does not currently take into account all the packages that are installed. This behaviour is the source of the following dependency conflicts.\n",
            "torchvision 0.13.1+cu113 requires torch==1.12.1, but you have torch 1.10.0 which is incompatible.\n",
            "torchtext 0.13.1 requires torch==1.12.1, but you have torch 1.10.0 which is incompatible.\n",
            "torchaudio 0.12.1+cu113 requires torch==1.12.1, but you have torch 1.10.0 which is incompatible.\n",
            "flask 1.1.4 requires Werkzeug<2.0,>=0.15, but you have werkzeug 2.0.2 which is incompatible.\u001b[0m\n",
            "Successfully installed PyJWT-2.3.0 PyNaCl-1.4.0 SQLAlchemy-1.4.27 ascii-magic-1.6 autodp-0.2 bcrypt-3.2.0 charset-normalizer-2.0.12 colorama-0.4.6 email-validator-1.3.0 forbiddenfruit-0.1.4 gevent-21.8.0 importlib-metadata-4.8.2 loguru-0.5.3 names-0.3.0 numpy-1.21.4 packaging-21.2 pandas-1.3.4 platformdirs-2.5.2 protobuf-3.19.1 pyarrow-6.0.0 pydantic-1.8.2 pymbolic-2021.1 pyparsing-2.4.7 pytools-2022.1.12 requests-2.26.0 requests-toolbelt-0.9.1 syft-0.6.0 sympy-1.9 torch-1.10.0 tqdm-4.62.3 typing-extensions-4.0.0 werkzeug-2.0.2 zope.event-4.5.0 zope.interface-5.5.0\n"
          ]
        },
        {
          "output_type": "display_data",
          "data": {
            "application/vnd.colab-display-data+json": {
              "pip_warning": {
                "packages": [
                  "google",
                  "numpy",
                  "pyparsing",
                  "torch",
                  "tqdm"
                ]
              }
            }
          },
          "metadata": {}
        }
      ]
    },
    {
      "cell_type": "code",
      "source": [
        "! pip uninstall syft"
      ],
      "metadata": {
        "colab": {
          "base_uri": "https://localhost:8080/"
        },
        "id": "j_LKG8a0OWTR",
        "outputId": "68112cf1-6cba-437f-cacc-5026f4d60f48"
      },
      "execution_count": null,
      "outputs": [
        {
          "output_type": "stream",
          "name": "stdout",
          "text": [
            "\u001b[33mWARNING: Skipping syft as it is not installed.\u001b[0m\n"
          ]
        }
      ]
    },
    {
      "cell_type": "code",
      "source": [
        "!pip install syft==0.2.9"
      ],
      "metadata": {
        "colab": {
          "base_uri": "https://localhost:8080/",
          "height": 1000
        },
        "id": "ExC_9Vs8M679",
        "outputId": "4724766c-f810-4927-b3d3-e5f2c4e266e7"
      },
      "execution_count": null,
      "outputs": [
        {
          "output_type": "stream",
          "name": "stdout",
          "text": [
            "Looking in indexes: https://pypi.org/simple, https://us-python.pkg.dev/colab-wheels/public/simple/\n",
            "Collecting syft==0.2.9\n",
            "  Downloading syft-0.2.9-py3-none-any.whl (433 kB)\n",
            "\u001b[K     |████████████████████████████████| 433 kB 14.5 MB/s \n",
            "\u001b[?25hCollecting websocket-client~=0.57.0\n",
            "  Downloading websocket_client-0.57.0-py2.py3-none-any.whl (200 kB)\n",
            "\u001b[K     |████████████████████████████████| 200 kB 37.6 MB/s \n",
            "\u001b[?25hRequirement already satisfied: Pillow>=7.1.0 in /usr/local/lib/python3.7/dist-packages (from syft==0.2.9) (7.1.2)\n",
            "Collecting torch~=1.4.0\n",
            "  Downloading torch-1.4.0-cp37-cp37m-manylinux1_x86_64.whl (753.4 MB)\n",
            "\u001b[K     |████████████████████████████████| 753.4 MB 6.9 kB/s \n",
            "\u001b[?25hCollecting lz4~=3.0.2\n",
            "  Downloading lz4-3.0.2-cp37-cp37m-manylinux2010_x86_64.whl (1.8 MB)\n",
            "\u001b[K     |████████████████████████████████| 1.8 MB 64.8 MB/s \n",
            "\u001b[?25hCollecting notebook==5.7.8\n",
            "  Downloading notebook-5.7.8-py2.py3-none-any.whl (9.0 MB)\n",
            "\u001b[K     |████████████████████████████████| 9.0 MB 50.6 MB/s \n",
            "\u001b[?25hCollecting importlib-resources~=1.5.0\n",
            "  Downloading importlib_resources-1.5.0-py2.py3-none-any.whl (21 kB)\n",
            "Requirement already satisfied: Flask~=1.1.1 in /usr/local/lib/python3.7/dist-packages (from syft==0.2.9) (1.1.4)\n",
            "Collecting syft-proto~=0.5.2\n",
            "  Downloading syft_proto-0.5.3-py3-none-any.whl (66 kB)\n",
            "\u001b[K     |████████████████████████████████| 66 kB 4.0 MB/s \n",
            "\u001b[?25hCollecting numpy~=1.18.1\n",
            "  Downloading numpy-1.18.5-cp37-cp37m-manylinux1_x86_64.whl (20.1 MB)\n",
            "\u001b[K     |████████████████████████████████| 20.1 MB 72.0 MB/s \n",
            "\u001b[?25hCollecting shaloop==0.2.1-alpha.11\n",
            "  Downloading shaloop-0.2.1_alpha.11-py3-none-manylinux1_x86_64.whl (126 kB)\n",
            "\u001b[K     |████████████████████████████████| 126 kB 65.5 MB/s \n",
            "\u001b[?25hCollecting openmined.threepio==0.2.0\n",
            "  Downloading openmined.threepio-0.2.0.tar.gz (73 kB)\n",
            "\u001b[K     |████████████████████████████████| 73 kB 2.2 MB/s \n",
            "\u001b[?25hCollecting requests~=2.22.0\n",
            "  Downloading requests-2.22.0-py2.py3-none-any.whl (57 kB)\n",
            "\u001b[K     |████████████████████████████████| 57 kB 5.0 MB/s \n",
            "\u001b[?25hRequirement already satisfied: msgpack~=1.0.0 in /usr/local/lib/python3.7/dist-packages (from syft==0.2.9) (1.0.4)\n",
            "Collecting torchvision~=0.5.0\n",
            "  Downloading torchvision-0.5.0-cp37-cp37m-manylinux1_x86_64.whl (4.0 MB)\n",
            "\u001b[K     |████████████████████████████████| 4.0 MB 48.1 MB/s \n",
            "\u001b[?25hCollecting flask-socketio~=4.2.1\n",
            "  Downloading Flask_SocketIO-4.2.1-py2.py3-none-any.whl (16 kB)\n",
            "Collecting tblib~=1.6.0\n",
            "  Downloading tblib-1.6.0-py2.py3-none-any.whl (12 kB)\n",
            "Collecting scipy~=1.4.1\n",
            "  Downloading scipy-1.4.1-cp37-cp37m-manylinux1_x86_64.whl (26.1 MB)\n",
            "\u001b[K     |████████████████████████████████| 26.1 MB 81.3 MB/s \n",
            "\u001b[?25hCollecting psutil==5.7.0\n",
            "  Downloading psutil-5.7.0.tar.gz (449 kB)\n",
            "\u001b[K     |████████████████████████████████| 449 kB 63.6 MB/s \n",
            "\u001b[?25hCollecting requests-toolbelt==0.9.1\n",
            "  Downloading requests_toolbelt-0.9.1-py2.py3-none-any.whl (54 kB)\n",
            "\u001b[K     |████████████████████████████████| 54 kB 2.4 MB/s \n",
            "\u001b[?25hCollecting phe~=1.4.0\n",
            "  Downloading phe-1.4.0.tar.gz (35 kB)\n",
            "Collecting RestrictedPython~=5.0\n",
            "  Downloading RestrictedPython-5.2-py2.py3-none-any.whl (28 kB)\n",
            "Collecting tornado==4.5.3\n",
            "  Downloading tornado-4.5.3.tar.gz (484 kB)\n",
            "\u001b[K     |████████████████████████████████| 484 kB 62.1 MB/s \n",
            "\u001b[?25hCollecting websockets~=8.1.0\n",
            "  Downloading websockets-8.1-cp37-cp37m-manylinux2010_x86_64.whl (79 kB)\n",
            "\u001b[K     |████████████████████████████████| 79 kB 7.6 MB/s \n",
            "\u001b[?25hRequirement already satisfied: dill~=0.3.1 in /usr/local/lib/python3.7/dist-packages (from syft==0.2.9) (0.3.6)\n",
            "Collecting aiortc==0.9.28\n",
            "  Downloading aiortc-0.9.28-cp37-cp37m-manylinux2010_x86_64.whl (2.0 MB)\n",
            "\u001b[K     |████████████████████████████████| 2.0 MB 63.1 MB/s \n",
            "\u001b[?25hCollecting av<9.0.0,>=8.0.0\n",
            "  Downloading av-8.1.0-cp37-cp37m-manylinux_2_17_x86_64.manylinux2014_x86_64.whl (36.1 MB)\n",
            "\u001b[K     |████████████████████████████████| 36.1 MB 359 kB/s \n",
            "\u001b[?25hCollecting pylibsrtp>=0.5.6\n",
            "  Downloading pylibsrtp-0.7.1-cp37-cp37m-manylinux_2_17_x86_64.manylinux2014_x86_64.whl (71 kB)\n",
            "\u001b[K     |████████████████████████████████| 71 kB 7.7 MB/s \n",
            "\u001b[?25hRequirement already satisfied: cffi>=1.0.0 in /usr/local/lib/python3.7/dist-packages (from aiortc==0.9.28->syft==0.2.9) (1.15.1)\n",
            "Collecting crc32c\n",
            "  Downloading crc32c-2.3-cp37-cp37m-manylinux_2_5_x86_64.manylinux1_x86_64.manylinux_2_17_x86_64.manylinux2014_x86_64.whl (43 kB)\n",
            "\u001b[K     |████████████████████████████████| 43 kB 1.9 MB/s \n",
            "\u001b[?25hCollecting cryptography>=2.2\n",
            "  Downloading cryptography-38.0.1-cp36-abi3-manylinux_2_24_x86_64.whl (4.0 MB)\n",
            "\u001b[K     |████████████████████████████████| 4.0 MB 59.9 MB/s \n",
            "\u001b[?25hCollecting aioice<0.7.0,>=0.6.17\n",
            "  Downloading aioice-0.6.18-py3-none-any.whl (19 kB)\n",
            "Collecting pyee>=6.0.0\n",
            "  Downloading pyee-9.0.4-py2.py3-none-any.whl (14 kB)\n",
            "Requirement already satisfied: ipykernel in /usr/local/lib/python3.7/dist-packages (from notebook==5.7.8->syft==0.2.9) (5.3.4)\n",
            "Requirement already satisfied: nbformat in /usr/local/lib/python3.7/dist-packages (from notebook==5.7.8->syft==0.2.9) (5.7.0)\n",
            "Requirement already satisfied: traitlets>=4.2.1 in /usr/local/lib/python3.7/dist-packages (from notebook==5.7.8->syft==0.2.9) (5.1.1)\n",
            "Requirement already satisfied: pyzmq>=17 in /usr/local/lib/python3.7/dist-packages (from notebook==5.7.8->syft==0.2.9) (23.2.1)\n",
            "Requirement already satisfied: jinja2 in /usr/local/lib/python3.7/dist-packages (from notebook==5.7.8->syft==0.2.9) (2.11.3)\n",
            "Requirement already satisfied: jupyter-core>=4.4.0 in /usr/local/lib/python3.7/dist-packages (from notebook==5.7.8->syft==0.2.9) (4.11.2)\n",
            "Requirement already satisfied: jupyter-client>=5.2.0 in /usr/local/lib/python3.7/dist-packages (from notebook==5.7.8->syft==0.2.9) (6.1.12)\n",
            "Collecting prometheus-client\n",
            "  Downloading prometheus_client-0.15.0-py3-none-any.whl (60 kB)\n",
            "\u001b[K     |████████████████████████████████| 60 kB 6.7 MB/s \n",
            "\u001b[?25hRequirement already satisfied: nbconvert in /usr/local/lib/python3.7/dist-packages (from notebook==5.7.8->syft==0.2.9) (5.6.1)\n",
            "Requirement already satisfied: terminado>=0.8.1 in /usr/local/lib/python3.7/dist-packages (from notebook==5.7.8->syft==0.2.9) (0.13.3)\n",
            "Requirement already satisfied: Send2Trash in /usr/local/lib/python3.7/dist-packages (from notebook==5.7.8->syft==0.2.9) (1.8.0)\n",
            "Requirement already satisfied: ipython-genutils in /usr/local/lib/python3.7/dist-packages (from notebook==5.7.8->syft==0.2.9) (0.2.0)\n",
            "Requirement already satisfied: pycparser>=2 in /usr/local/lib/python3.7/dist-packages (from shaloop==0.2.1-alpha.11->syft==0.2.9) (2.21)\n",
            "Collecting netifaces\n",
            "  Downloading netifaces-0.11.0-cp37-cp37m-manylinux_2_5_x86_64.manylinux1_x86_64.whl (32 kB)\n",
            "Requirement already satisfied: click<8.0,>=5.1 in /usr/local/lib/python3.7/dist-packages (from Flask~=1.1.1->syft==0.2.9) (7.1.2)\n",
            "Requirement already satisfied: itsdangerous<2.0,>=0.24 in /usr/local/lib/python3.7/dist-packages (from Flask~=1.1.1->syft==0.2.9) (1.1.0)\n",
            "Requirement already satisfied: Werkzeug<2.0,>=0.15 in /usr/local/lib/python3.7/dist-packages (from Flask~=1.1.1->syft==0.2.9) (1.0.1)\n",
            "Collecting python-socketio>=4.3.0\n",
            "  Downloading python_socketio-5.7.2-py3-none-any.whl (56 kB)\n",
            "\u001b[K     |████████████████████████████████| 56 kB 4.7 MB/s \n",
            "\u001b[?25hRequirement already satisfied: importlib-metadata in /usr/local/lib/python3.7/dist-packages (from importlib-resources~=1.5.0->syft==0.2.9) (4.13.0)\n",
            "Requirement already satisfied: zipp>=0.4 in /usr/local/lib/python3.7/dist-packages (from importlib-resources~=1.5.0->syft==0.2.9) (3.10.0)\n",
            "Requirement already satisfied: MarkupSafe>=0.23 in /usr/local/lib/python3.7/dist-packages (from jinja2->notebook==5.7.8->syft==0.2.9) (2.0.1)\n",
            "Requirement already satisfied: python-dateutil>=2.1 in /usr/local/lib/python3.7/dist-packages (from jupyter-client>=5.2.0->notebook==5.7.8->syft==0.2.9) (2.8.2)\n",
            "Requirement already satisfied: typing-extensions in /usr/local/lib/python3.7/dist-packages (from pyee>=6.0.0->aiortc==0.9.28->syft==0.2.9) (4.1.1)\n",
            "Requirement already satisfied: six>=1.5 in /usr/local/lib/python3.7/dist-packages (from python-dateutil>=2.1->jupyter-client>=5.2.0->notebook==5.7.8->syft==0.2.9) (1.15.0)\n",
            "Collecting bidict>=0.21.0\n",
            "  Downloading bidict-0.22.0-py3-none-any.whl (36 kB)\n",
            "Collecting python-engineio>=4.3.0\n",
            "  Downloading python_engineio-4.3.4-py3-none-any.whl (52 kB)\n",
            "\u001b[K     |████████████████████████████████| 52 kB 1.3 MB/s \n",
            "\u001b[?25hRequirement already satisfied: urllib3!=1.25.0,!=1.25.1,<1.26,>=1.21.1 in /usr/local/lib/python3.7/dist-packages (from requests~=2.22.0->syft==0.2.9) (1.24.3)\n",
            "Requirement already satisfied: certifi>=2017.4.17 in /usr/local/lib/python3.7/dist-packages (from requests~=2.22.0->syft==0.2.9) (2022.9.24)\n",
            "Collecting idna<2.9,>=2.5\n",
            "  Downloading idna-2.8-py2.py3-none-any.whl (58 kB)\n",
            "\u001b[K     |████████████████████████████████| 58 kB 5.4 MB/s \n",
            "\u001b[?25hRequirement already satisfied: chardet<3.1.0,>=3.0.2 in /usr/local/lib/python3.7/dist-packages (from requests~=2.22.0->syft==0.2.9) (3.0.4)\n",
            "Requirement already satisfied: protobuf>=3.12.2 in /usr/local/lib/python3.7/dist-packages (from syft-proto~=0.5.2->syft==0.2.9) (3.17.3)\n",
            "Requirement already satisfied: ptyprocess in /usr/local/lib/python3.7/dist-packages (from terminado>=0.8.1->notebook==5.7.8->syft==0.2.9) (0.7.0)\n",
            "Requirement already satisfied: ipython>=5.0.0 in /usr/local/lib/python3.7/dist-packages (from ipykernel->notebook==5.7.8->syft==0.2.9) (7.9.0)\n",
            "Requirement already satisfied: pexpect in /usr/local/lib/python3.7/dist-packages (from ipython>=5.0.0->ipykernel->notebook==5.7.8->syft==0.2.9) (4.8.0)\n",
            "Requirement already satisfied: setuptools>=18.5 in /usr/local/lib/python3.7/dist-packages (from ipython>=5.0.0->ipykernel->notebook==5.7.8->syft==0.2.9) (57.4.0)\n",
            "Requirement already satisfied: decorator in /usr/local/lib/python3.7/dist-packages (from ipython>=5.0.0->ipykernel->notebook==5.7.8->syft==0.2.9) (4.4.2)\n",
            "Requirement already satisfied: backcall in /usr/local/lib/python3.7/dist-packages (from ipython>=5.0.0->ipykernel->notebook==5.7.8->syft==0.2.9) (0.2.0)\n",
            "Collecting jedi>=0.10\n",
            "  Downloading jedi-0.18.1-py2.py3-none-any.whl (1.6 MB)\n",
            "\u001b[K     |████████████████████████████████| 1.6 MB 54.7 MB/s \n",
            "\u001b[?25hRequirement already satisfied: pygments in /usr/local/lib/python3.7/dist-packages (from ipython>=5.0.0->ipykernel->notebook==5.7.8->syft==0.2.9) (2.6.1)\n",
            "Requirement already satisfied: pickleshare in /usr/local/lib/python3.7/dist-packages (from ipython>=5.0.0->ipykernel->notebook==5.7.8->syft==0.2.9) (0.7.5)\n",
            "Requirement already satisfied: prompt-toolkit<2.1.0,>=2.0.0 in /usr/local/lib/python3.7/dist-packages (from ipython>=5.0.0->ipykernel->notebook==5.7.8->syft==0.2.9) (2.0.10)\n",
            "Requirement already satisfied: parso<0.9.0,>=0.8.0 in /usr/local/lib/python3.7/dist-packages (from jedi>=0.10->ipython>=5.0.0->ipykernel->notebook==5.7.8->syft==0.2.9) (0.8.3)\n",
            "Requirement already satisfied: wcwidth in /usr/local/lib/python3.7/dist-packages (from prompt-toolkit<2.1.0,>=2.0.0->ipython>=5.0.0->ipykernel->notebook==5.7.8->syft==0.2.9) (0.2.5)\n",
            "Requirement already satisfied: testpath in /usr/local/lib/python3.7/dist-packages (from nbconvert->notebook==5.7.8->syft==0.2.9) (0.6.0)\n",
            "Requirement already satisfied: defusedxml in /usr/local/lib/python3.7/dist-packages (from nbconvert->notebook==5.7.8->syft==0.2.9) (0.7.1)\n",
            "Requirement already satisfied: mistune<2,>=0.8.1 in /usr/local/lib/python3.7/dist-packages (from nbconvert->notebook==5.7.8->syft==0.2.9) (0.8.4)\n",
            "Requirement already satisfied: pandocfilters>=1.4.1 in /usr/local/lib/python3.7/dist-packages (from nbconvert->notebook==5.7.8->syft==0.2.9) (1.5.0)\n",
            "Requirement already satisfied: bleach in /usr/local/lib/python3.7/dist-packages (from nbconvert->notebook==5.7.8->syft==0.2.9) (5.0.1)\n",
            "Requirement already satisfied: entrypoints>=0.2.2 in /usr/local/lib/python3.7/dist-packages (from nbconvert->notebook==5.7.8->syft==0.2.9) (0.4)\n",
            "Requirement already satisfied: jsonschema>=2.6 in /usr/local/lib/python3.7/dist-packages (from nbformat->notebook==5.7.8->syft==0.2.9) (4.3.3)\n",
            "Requirement already satisfied: fastjsonschema in /usr/local/lib/python3.7/dist-packages (from nbformat->notebook==5.7.8->syft==0.2.9) (2.16.2)\n",
            "Requirement already satisfied: pyrsistent!=0.17.0,!=0.17.1,!=0.17.2,>=0.14.0 in /usr/local/lib/python3.7/dist-packages (from jsonschema>=2.6->nbformat->notebook==5.7.8->syft==0.2.9) (0.18.1)\n",
            "Requirement already satisfied: attrs>=17.4.0 in /usr/local/lib/python3.7/dist-packages (from jsonschema>=2.6->nbformat->notebook==5.7.8->syft==0.2.9) (22.1.0)\n",
            "Requirement already satisfied: webencodings in /usr/local/lib/python3.7/dist-packages (from bleach->nbconvert->notebook==5.7.8->syft==0.2.9) (0.5.1)\n",
            "Building wheels for collected packages: openmined.threepio, psutil, tornado, phe\n",
            "  Building wheel for openmined.threepio (setup.py) ... \u001b[?25l\u001b[?25hdone\n",
            "  Created wheel for openmined.threepio: filename=openmined.threepio-0.2.0-py3-none-any.whl size=80094 sha256=8a9b0ace9c1cf32dd6f10a353fce35fd3fd5709850fbe1597b6441a2bde80489\n",
            "  Stored in directory: /root/.cache/pip/wheels/97/3d/ce/4ca4386006e622cb87d5116e5e65026ec021d3cf906a9b3d5d\n",
            "  Building wheel for psutil (setup.py) ... \u001b[?25l\u001b[?25hdone\n",
            "  Created wheel for psutil: filename=psutil-5.7.0-cp37-cp37m-linux_x86_64.whl size=276568 sha256=6a54642a7291a7a61017590bc3a1ee179431f77b63871235fb6f089849f97ee0\n",
            "  Stored in directory: /root/.cache/pip/wheels/b6/e7/50/aee9cc966163d74430f13f208171dee22f11efa4a4a826661c\n",
            "  Building wheel for tornado (setup.py) ... \u001b[?25l\u001b[?25hdone\n",
            "  Created wheel for tornado: filename=tornado-4.5.3-cp37-cp37m-linux_x86_64.whl size=434042 sha256=bb1464386c76c6098b216d989c0d37bea65089311c3fdd3932116e1c2d9a717a\n",
            "  Stored in directory: /root/.cache/pip/wheels/a2/45/43/36ec7a893e16c1212a6b1505ded0a2d73cf8e863a0227c8e04\n",
            "  Building wheel for phe (setup.py) ... \u001b[?25l\u001b[?25hdone\n",
            "  Created wheel for phe: filename=phe-1.4.0-py2.py3-none-any.whl size=37362 sha256=dd0fae85d21da59eb30f1bff183bab33af7e32b5693e624b7693e6a863dc4aee\n",
            "  Stored in directory: /root/.cache/pip/wheels/bb/ac/9b/b07a04fe6bb1418ab4ee06d6652757aef848b80363c4dac507\n",
            "Successfully built openmined.threepio psutil tornado phe\n",
            "Installing collected packages: importlib-resources, tornado, jedi, python-engineio, netifaces, idna, bidict, torch, requests, python-socketio, pylibsrtp, pyee, prometheus-client, numpy, cryptography, crc32c, av, aioice, websockets, websocket-client, torchvision, tblib, syft-proto, shaloop, scipy, RestrictedPython, requests-toolbelt, psutil, phe, openmined.threepio, notebook, lz4, flask-socketio, aiortc, syft\n",
            "  Attempting uninstall: importlib-resources\n",
            "    Found existing installation: importlib-resources 5.10.0\n",
            "    Uninstalling importlib-resources-5.10.0:\n",
            "      Successfully uninstalled importlib-resources-5.10.0\n",
            "  Attempting uninstall: tornado\n",
            "    Found existing installation: tornado 5.1.1\n",
            "    Uninstalling tornado-5.1.1:\n",
            "      Successfully uninstalled tornado-5.1.1\n",
            "  Attempting uninstall: idna\n",
            "    Found existing installation: idna 2.10\n",
            "    Uninstalling idna-2.10:\n",
            "      Successfully uninstalled idna-2.10\n",
            "  Attempting uninstall: torch\n",
            "    Found existing installation: torch 1.12.1+cu113\n",
            "    Uninstalling torch-1.12.1+cu113:\n",
            "      Successfully uninstalled torch-1.12.1+cu113\n",
            "  Attempting uninstall: requests\n",
            "    Found existing installation: requests 2.23.0\n",
            "    Uninstalling requests-2.23.0:\n",
            "      Successfully uninstalled requests-2.23.0\n",
            "  Attempting uninstall: numpy\n",
            "    Found existing installation: numpy 1.21.6\n",
            "    Uninstalling numpy-1.21.6:\n",
            "      Successfully uninstalled numpy-1.21.6\n",
            "  Attempting uninstall: torchvision\n",
            "    Found existing installation: torchvision 0.13.1+cu113\n",
            "    Uninstalling torchvision-0.13.1+cu113:\n",
            "      Successfully uninstalled torchvision-0.13.1+cu113\n",
            "  Attempting uninstall: tblib\n",
            "    Found existing installation: tblib 1.7.0\n",
            "    Uninstalling tblib-1.7.0:\n",
            "      Successfully uninstalled tblib-1.7.0\n",
            "  Attempting uninstall: scipy\n",
            "    Found existing installation: scipy 1.7.3\n",
            "    Uninstalling scipy-1.7.3:\n",
            "      Successfully uninstalled scipy-1.7.3\n",
            "  Attempting uninstall: psutil\n",
            "    Found existing installation: psutil 5.4.8\n",
            "    Uninstalling psutil-5.4.8:\n",
            "      Successfully uninstalled psutil-5.4.8\n",
            "  Attempting uninstall: notebook\n",
            "    Found existing installation: notebook 5.5.0\n",
            "    Uninstalling notebook-5.5.0:\n",
            "      Successfully uninstalled notebook-5.5.0\n",
            "\u001b[31mERROR: pip's dependency resolver does not currently take into account all the packages that are installed. This behaviour is the source of the following dependency conflicts.\n",
            "xarray-einstats 0.2.2 requires numpy>=1.21, but you have numpy 1.18.5 which is incompatible.\n",
            "torchtext 0.13.1 requires torch==1.12.1, but you have torch 1.4.0 which is incompatible.\n",
            "torchaudio 0.12.1+cu113 requires torch==1.12.1, but you have torch 1.4.0 which is incompatible.\n",
            "tensorflow 2.9.2 requires numpy>=1.20, but you have numpy 1.18.5 which is incompatible.\n",
            "tables 3.7.0 requires numpy>=1.19.0, but you have numpy 1.18.5 which is incompatible.\n",
            "plotnine 0.8.0 requires numpy>=1.19.0, but you have numpy 1.18.5 which is incompatible.\n",
            "plotnine 0.8.0 requires scipy>=1.5.0, but you have scipy 1.4.1 which is incompatible.\n",
            "jaxlib 0.3.22+cuda11.cudnn805 requires numpy>=1.20, but you have numpy 1.18.5 which is incompatible.\n",
            "jaxlib 0.3.22+cuda11.cudnn805 requires scipy>=1.5, but you have scipy 1.4.1 which is incompatible.\n",
            "jax 0.3.23 requires numpy>=1.20, but you have numpy 1.18.5 which is incompatible.\n",
            "jax 0.3.23 requires scipy>=1.5, but you have scipy 1.4.1 which is incompatible.\n",
            "google-colab 1.0.0 requires notebook~=5.5.0, but you have notebook 5.7.8 which is incompatible.\n",
            "google-colab 1.0.0 requires requests>=2.23.0, but you have requests 2.22.0 which is incompatible.\n",
            "google-colab 1.0.0 requires tornado~=5.1.0, but you have tornado 4.5.3 which is incompatible.\n",
            "fastai 2.7.9 requires torch<1.14,>=1.7, but you have torch 1.4.0 which is incompatible.\n",
            "fastai 2.7.9 requires torchvision>=0.8.2, but you have torchvision 0.5.0 which is incompatible.\n",
            "distributed 2022.2.0 requires tornado>=5; python_version < \"3.8\", but you have tornado 4.5.3 which is incompatible.\n",
            "cmdstanpy 1.0.8 requires numpy>=1.21, but you have numpy 1.18.5 which is incompatible.\n",
            "bokeh 2.3.3 requires tornado>=5.1, but you have tornado 4.5.3 which is incompatible.\u001b[0m\n",
            "Successfully installed RestrictedPython-5.2 aioice-0.6.18 aiortc-0.9.28 av-8.1.0 bidict-0.22.0 crc32c-2.3 cryptography-38.0.1 flask-socketio-4.2.1 idna-2.8 importlib-resources-1.5.0 jedi-0.18.1 lz4-3.0.2 netifaces-0.11.0 notebook-5.7.8 numpy-1.18.5 openmined.threepio-0.2.0 phe-1.4.0 prometheus-client-0.15.0 psutil-5.7.0 pyee-9.0.4 pylibsrtp-0.7.1 python-engineio-4.3.4 python-socketio-5.7.2 requests-2.22.0 requests-toolbelt-0.9.1 scipy-1.4.1 shaloop-0.2.1a11 syft-0.2.9 syft-proto-0.5.3 tblib-1.6.0 torch-1.4.0 torchvision-0.5.0 tornado-4.5.3 websocket-client-0.57.0 websockets-8.1\n"
          ]
        },
        {
          "output_type": "display_data",
          "data": {
            "application/vnd.colab-display-data+json": {
              "pip_warning": {
                "packages": [
                  "numpy",
                  "psutil",
                  "torch",
                  "tornado"
                ]
              }
            }
          },
          "metadata": {}
        }
      ]
    },
    {
      "cell_type": "code",
      "source": [
        "!pip uninstall syft"
      ],
      "metadata": {
        "colab": {
          "base_uri": "https://localhost:8080/"
        },
        "id": "0k7QyUj1Nidw",
        "outputId": "28e5db75-c67a-43e3-88c7-c9b8e72caa62"
      },
      "execution_count": null,
      "outputs": [
        {
          "output_type": "stream",
          "name": "stdout",
          "text": [
            "\u001b[33mWARNING: Skipping syft as it is not installed.\u001b[0m\n"
          ]
        }
      ]
    },
    {
      "cell_type": "code",
      "source": [
        "!pip install syft==0.2.6"
      ],
      "metadata": {
        "colab": {
          "base_uri": "https://localhost:8080/",
          "height": 1000
        },
        "id": "Urvpk6aeOpwo",
        "outputId": "0931d2d0-bf44-45d9-c419-775a2914f002"
      },
      "execution_count": null,
      "outputs": [
        {
          "output_type": "stream",
          "name": "stdout",
          "text": [
            "Looking in indexes: https://pypi.org/simple, https://us-python.pkg.dev/colab-wheels/public/simple/\n",
            "Collecting syft==0.2.6\n",
            "  Downloading syft-0.2.6-py3-none-any.whl (377 kB)\n",
            "\u001b[K     |████████████████████████████████| 377 kB 23.9 MB/s \n",
            "\u001b[?25hRequirement already satisfied: torch~=1.4.0 in /usr/local/lib/python3.7/dist-packages (from syft==0.2.6) (1.4.0)\n",
            "Requirement already satisfied: lz4~=3.0.2 in /usr/local/lib/python3.7/dist-packages (from syft==0.2.6) (3.0.2)\n",
            "Requirement already satisfied: requests~=2.22.0 in /usr/local/lib/python3.7/dist-packages (from syft==0.2.6) (2.22.0)\n",
            "Collecting syft-proto~=0.4.5\n",
            "  Downloading syft_proto-0.4.10-py3-none-any.whl (63 kB)\n",
            "\u001b[K     |████████████████████████████████| 63 kB 2.7 MB/s \n",
            "\u001b[?25hRequirement already satisfied: torchvision~=0.5.0 in /usr/local/lib/python3.7/dist-packages (from syft==0.2.6) (0.5.0)\n",
            "Requirement already satisfied: numpy~=1.18.1 in /usr/local/lib/python3.7/dist-packages (from syft==0.2.6) (1.18.5)\n",
            "Requirement already satisfied: Flask~=1.1.1 in /usr/local/lib/python3.7/dist-packages (from syft==0.2.6) (1.1.4)\n",
            "Requirement already satisfied: aiortc==0.9.28 in /usr/local/lib/python3.7/dist-packages (from syft==0.2.6) (0.9.28)\n",
            "Collecting Pillow~=6.2.2\n",
            "  Downloading Pillow-6.2.2-cp37-cp37m-manylinux1_x86_64.whl (2.1 MB)\n",
            "\u001b[K     |████████████████████████████████| 2.1 MB 61.2 MB/s \n",
            "\u001b[?25hRequirement already satisfied: scipy~=1.4.1 in /usr/local/lib/python3.7/dist-packages (from syft==0.2.6) (1.4.1)\n",
            "Requirement already satisfied: msgpack~=1.0.0 in /usr/local/lib/python3.7/dist-packages (from syft==0.2.6) (1.0.4)\n",
            "Requirement already satisfied: psutil==5.7.0 in /usr/local/lib/python3.7/dist-packages (from syft==0.2.6) (5.7.0)\n",
            "Requirement already satisfied: tornado==4.5.3 in /usr/local/lib/python3.7/dist-packages (from syft==0.2.6) (4.5.3)\n",
            "Requirement already satisfied: websocket-client~=0.57.0 in /usr/local/lib/python3.7/dist-packages (from syft==0.2.6) (0.57.0)\n",
            "Requirement already satisfied: websockets~=8.1.0 in /usr/local/lib/python3.7/dist-packages (from syft==0.2.6) (8.1)\n",
            "Requirement already satisfied: flask-socketio~=4.2.1 in /usr/local/lib/python3.7/dist-packages (from syft==0.2.6) (4.2.1)\n",
            "Requirement already satisfied: tblib~=1.6.0 in /usr/local/lib/python3.7/dist-packages (from syft==0.2.6) (1.6.0)\n",
            "Requirement already satisfied: phe~=1.4.0 in /usr/local/lib/python3.7/dist-packages (from syft==0.2.6) (1.4.0)\n",
            "Requirement already satisfied: cryptography>=2.2 in /usr/local/lib/python3.7/dist-packages (from aiortc==0.9.28->syft==0.2.6) (38.0.1)\n",
            "Requirement already satisfied: pylibsrtp>=0.5.6 in /usr/local/lib/python3.7/dist-packages (from aiortc==0.9.28->syft==0.2.6) (0.7.1)\n",
            "Requirement already satisfied: crc32c in /usr/local/lib/python3.7/dist-packages (from aiortc==0.9.28->syft==0.2.6) (2.3)\n",
            "Requirement already satisfied: cffi>=1.0.0 in /usr/local/lib/python3.7/dist-packages (from aiortc==0.9.28->syft==0.2.6) (1.15.1)\n",
            "Requirement already satisfied: av<9.0.0,>=8.0.0 in /usr/local/lib/python3.7/dist-packages (from aiortc==0.9.28->syft==0.2.6) (8.1.0)\n",
            "Requirement already satisfied: pyee>=6.0.0 in /usr/local/lib/python3.7/dist-packages (from aiortc==0.9.28->syft==0.2.6) (9.0.4)\n",
            "Requirement already satisfied: aioice<0.7.0,>=0.6.17 in /usr/local/lib/python3.7/dist-packages (from aiortc==0.9.28->syft==0.2.6) (0.6.18)\n",
            "Requirement already satisfied: netifaces in /usr/local/lib/python3.7/dist-packages (from aioice<0.7.0,>=0.6.17->aiortc==0.9.28->syft==0.2.6) (0.11.0)\n",
            "Requirement already satisfied: pycparser in /usr/local/lib/python3.7/dist-packages (from cffi>=1.0.0->aiortc==0.9.28->syft==0.2.6) (2.21)\n",
            "Requirement already satisfied: Jinja2<3.0,>=2.10.1 in /usr/local/lib/python3.7/dist-packages (from Flask~=1.1.1->syft==0.2.6) (2.11.3)\n",
            "Requirement already satisfied: Werkzeug<2.0,>=0.15 in /usr/local/lib/python3.7/dist-packages (from Flask~=1.1.1->syft==0.2.6) (1.0.1)\n",
            "Requirement already satisfied: click<8.0,>=5.1 in /usr/local/lib/python3.7/dist-packages (from Flask~=1.1.1->syft==0.2.6) (7.1.2)\n",
            "Requirement already satisfied: itsdangerous<2.0,>=0.24 in /usr/local/lib/python3.7/dist-packages (from Flask~=1.1.1->syft==0.2.6) (1.1.0)\n",
            "Requirement already satisfied: python-socketio>=4.3.0 in /usr/local/lib/python3.7/dist-packages (from flask-socketio~=4.2.1->syft==0.2.6) (5.7.2)\n",
            "Requirement already satisfied: MarkupSafe>=0.23 in /usr/local/lib/python3.7/dist-packages (from Jinja2<3.0,>=2.10.1->Flask~=1.1.1->syft==0.2.6) (2.0.1)\n",
            "Requirement already satisfied: typing-extensions in /usr/local/lib/python3.7/dist-packages (from pyee>=6.0.0->aiortc==0.9.28->syft==0.2.6) (4.0.0)\n",
            "Requirement already satisfied: bidict>=0.21.0 in /usr/local/lib/python3.7/dist-packages (from python-socketio>=4.3.0->flask-socketio~=4.2.1->syft==0.2.6) (0.22.0)\n",
            "Requirement already satisfied: python-engineio>=4.3.0 in /usr/local/lib/python3.7/dist-packages (from python-socketio>=4.3.0->flask-socketio~=4.2.1->syft==0.2.6) (4.3.4)\n",
            "Requirement already satisfied: chardet<3.1.0,>=3.0.2 in /usr/local/lib/python3.7/dist-packages (from requests~=2.22.0->syft==0.2.6) (3.0.4)\n",
            "Requirement already satisfied: urllib3!=1.25.0,!=1.25.1,<1.26,>=1.21.1 in /usr/local/lib/python3.7/dist-packages (from requests~=2.22.0->syft==0.2.6) (1.24.3)\n",
            "Requirement already satisfied: idna<2.9,>=2.5 in /usr/local/lib/python3.7/dist-packages (from requests~=2.22.0->syft==0.2.6) (2.8)\n",
            "Requirement already satisfied: certifi>=2017.4.17 in /usr/local/lib/python3.7/dist-packages (from requests~=2.22.0->syft==0.2.6) (2022.9.24)\n",
            "Requirement already satisfied: protobuf>=3.12.2 in /usr/local/lib/python3.7/dist-packages (from syft-proto~=0.4.5->syft==0.2.6) (3.19.1)\n",
            "Requirement already satisfied: six in /usr/local/lib/python3.7/dist-packages (from torchvision~=0.5.0->syft==0.2.6) (1.15.0)\n",
            "Installing collected packages: Pillow, syft-proto, syft\n",
            "  Attempting uninstall: Pillow\n",
            "    Found existing installation: Pillow 7.1.2\n",
            "    Uninstalling Pillow-7.1.2:\n",
            "      Successfully uninstalled Pillow-7.1.2\n",
            "  Attempting uninstall: syft-proto\n",
            "    Found existing installation: syft-proto 0.5.3\n",
            "    Uninstalling syft-proto-0.5.3:\n",
            "      Successfully uninstalled syft-proto-0.5.3\n",
            "  Attempting uninstall: syft\n",
            "    Found existing installation: syft 0.2.9\n",
            "    Uninstalling syft-0.2.9:\n",
            "      Successfully uninstalled syft-0.2.9\n",
            "\u001b[31mERROR: pip's dependency resolver does not currently take into account all the packages that are installed. This behaviour is the source of the following dependency conflicts.\n",
            "fastai 2.7.9 requires torch<1.14,>=1.7, but you have torch 1.4.0 which is incompatible.\n",
            "fastai 2.7.9 requires torchvision>=0.8.2, but you have torchvision 0.5.0 which is incompatible.\n",
            "bokeh 2.3.3 requires pillow>=7.1.0, but you have pillow 6.2.2 which is incompatible.\n",
            "bokeh 2.3.3 requires tornado>=5.1, but you have tornado 4.5.3 which is incompatible.\u001b[0m\n",
            "Successfully installed Pillow-6.2.2 syft-0.2.6 syft-proto-0.4.10\n"
          ]
        },
        {
          "output_type": "display_data",
          "data": {
            "application/vnd.colab-display-data+json": {
              "pip_warning": {
                "packages": [
                  "PIL",
                  "syft"
                ]
              }
            }
          },
          "metadata": {}
        }
      ]
    },
    {
      "cell_type": "code",
      "source": [
        "\n",
        "import syft as sy\n",
        "import torch as th\n",
        "hook = sy.TorchHook(th)\n",
        "from torch import nn, optim\n",
        "\n",
        "n_hospitals = 3\n",
        "hospitals = []\n",
        "for i in range(n_hospitals):\n",
        "    hospital_name = 'hospital{}'.format(i)\n",
        "    hospital = sy.VirtualWorker(hook, id = hospital_name)\n",
        "    hospitals.append(hospital)\n",
        "secure_worker = sy.VirtualWorker(hook, id=\"secure_worker\")\n",
        "\n",
        "def get_workers_names(workers):\n",
        "    return [worker.id for worker in workers]\n",
        "\n",
        "def add_and_print_workers(worker, workers):\n",
        "    print('workers of {} = {}'.format(worker.id, get_workers_names(workers)))\n",
        "    worker.add_workers(workers)\n",
        "\n",
        "for i in range(n_hospitals):\n",
        "    workers = [hospitals[i2] for i2 in range(n_hospitals) if i2 != i] + [secure_worker]\n",
        "    add_and_print_workers(hospitals[i], workers)\n",
        "add_and_print_workers(secure_worker, hospitals)"
      ],
      "metadata": {
        "colab": {
          "base_uri": "https://localhost:8080/",
          "height": 391
        },
        "id": "uKhbz74YKnUX",
        "outputId": "7c8fc46b-ee4e-4d74-93ee-70408812ae10"
      },
      "execution_count": null,
      "outputs": [
        {
          "output_type": "error",
          "ename": "RuntimeError",
          "evalue": "ignored",
          "traceback": [
            "\u001b[0;31m---------------------------------------------------------------------------\u001b[0m",
            "\u001b[0;31mRuntimeError\u001b[0m                              Traceback (most recent call last)",
            "\u001b[0;31mRuntimeError\u001b[0m: module compiled against API version 0xe but this version of numpy is 0xd"
          ]
        },
        {
          "output_type": "stream",
          "name": "stderr",
          "text": [
            "WARNING:syft.workers.base:Worker hospital1 already exists. Replacing old worker which could cause                     unexpected behavior\n",
            "WARNING:syft.workers.base:Worker hospital2 already exists. Replacing old worker which could cause                     unexpected behavior\n",
            "WARNING:syft.workers.base:Worker secure_worker already exists. Replacing old worker which could cause                     unexpected behavior\n",
            "WARNING:syft.workers.base:Worker hospital0 already exists. Replacing old worker which could cause                     unexpected behavior\n",
            "WARNING:syft.workers.base:Worker hospital2 already exists. Replacing old worker which could cause                     unexpected behavior\n",
            "WARNING:syft.workers.base:Worker secure_worker already exists. Replacing old worker which could cause                     unexpected behavior\n",
            "WARNING:syft.workers.base:Worker hospital0 already exists. Replacing old worker which could cause                     unexpected behavior\n",
            "WARNING:syft.workers.base:Worker hospital1 already exists. Replacing old worker which could cause                     unexpected behavior\n",
            "WARNING:syft.workers.base:Worker secure_worker already exists. Replacing old worker which could cause                     unexpected behavior\n",
            "WARNING:syft.workers.base:Worker hospital0 already exists. Replacing old worker which could cause                     unexpected behavior\n",
            "WARNING:syft.workers.base:Worker hospital1 already exists. Replacing old worker which could cause                     unexpected behavior\n",
            "WARNING:syft.workers.base:Worker hospital2 already exists. Replacing old worker which could cause                     unexpected behavior\n"
          ]
        },
        {
          "output_type": "stream",
          "name": "stdout",
          "text": [
            "workers of hospital0 = ['hospital1', 'hospital2', 'secure_worker']\n",
            "workers of hospital1 = ['hospital0', 'hospital2', 'secure_worker']\n",
            "workers of hospital2 = ['hospital0', 'hospital1', 'secure_worker']\n",
            "workers of secure_worker = ['hospital0', 'hospital1', 'hospital2']\n"
          ]
        }
      ]
    },
    {
      "cell_type": "code",
      "source": [
        "n_samples = train_data.shape[0]\n",
        "samples_per_hospital = int((n_samples + 0.5) / n_hospitals)\n",
        "hospital_features = []\n",
        "hospital_targets1 = []\n",
        "hospital_targets2 = []\n",
        "train_data = th.tensor(train_data, dtype = torch.float32, requires_grad=True)\n",
        "for i in range(n_hospitals):\n",
        "    train_data2 = train_data[i * samples_per_hospital:(i + 1) * samples_per_hospital].clone().detach().requires_grad_(True)\n",
        "    features = train_data2[:, :6].clone().detach().requires_grad_(True)\n",
        "    targets1 = train_data2[:, 6][:, None].clone().detach()\n",
        "    targets2 = train_data2[:, 7][:, None].clone().detach()\n",
        "    hospital_features.append(features.send(hospitals[i]))\n",
        "    hospital_targets1.append(targets1.send(hospitals[i]))\n",
        "    hospital_targets2.append(targets2.send(hospitals[i]))\n",
        "\n",
        "print(model)"
      ],
      "metadata": {
        "colab": {
          "base_uri": "https://localhost:8080/"
        },
        "id": "2yDVTWepNg4K",
        "outputId": "58da57d6-9aee-4700-d269-c49a6416a35a"
      },
      "execution_count": null,
      "outputs": [
        {
          "output_type": "stream",
          "name": "stdout",
          "text": [
            "LogisticRegression(\n",
            "  (linear): Linear(in_features=6, out_features=1, bias=True)\n",
            ")\n"
          ]
        }
      ]
    },
    {
      "cell_type": "code",
      "source": [
        "def plot_federated_graphs(diagnosis_title, losses, accuracies):\n",
        "    for i in range(n_hospitals):\n",
        "        plt.plot(losses[i], label=f'Hospital {i}')\n",
        "    legend = plt.legend(loc='upper right', shadow=True)\n",
        "    plt.title(f\"{diagnosis_title} - Training Loss\")\n",
        "    plt.xlabel(\"Iterations\")\n",
        "    plt.ylabel(\"Training Loss\")\n",
        "    plt.show()\n",
        "    for i in range(n_hospitals):\n",
        "        plt.plot(accuracies[i], label=f'Hospital {i}')\n",
        "    legend = plt.legend(loc='lower right', shadow=True)\n",
        "    plt.title(f\"{diagnosis_title} - Training Accuracy\")\n",
        "    plt.xlabel(\"Iterations\")\n",
        "    plt.ylabel(\"Training Accuracy (Percent %)\")\n",
        "    plt.show()\n",
        "\n",
        "def compute_federated_accuracy(model, input, output):\n",
        "    prediction = model(input)\n",
        "    n_samples = prediction.shape[0]\n",
        "    s = 0.\n",
        "    for i in range(n_samples):\n",
        "        p = 1. if prediction[i] >= 0.5 else 0.\n",
        "        e = 1. if p == output[i] else 0.\n",
        "        s += e\n",
        "    return 100. * s / n_samples\n",
        "\n",
        "iterations = 1000 #2000\n",
        "worker_iterations = 3\n",
        "\n",
        "def federated_learning(diagnosis_title, hospital_features, hospital_targets, test_input, test_output):\n",
        "    model = LogisticRegression()\n",
        "    criterion = torch.nn.BCELoss(size_average=True)\n",
        "    optimizer = torch.optim.SGD(model.parameters(), lr=learning_rate)\n",
        "    losses = [[] for i in range(n_hospitals)]\n",
        "    accuracies = [[] for i in range(n_hospitals)]\n",
        "    for iteration in range(iterations):\n",
        "        models = [model.copy().send(hospitals[i]) for i in range(n_hospitals)]\n",
        "        optimizers = [torch.optim.SGD(params = models[i].parameters(), lr = learning_rate) for i in range(n_hospitals)]\n",
        "        for worker_iteration in range(worker_iterations):\n",
        "            last_losses = []\n",
        "            for i in range(n_hospitals):\n",
        "                optimizers[i].zero_grad()\n",
        "                prediction = models[i](hospital_features[i])\n",
        "                loss = criterion(prediction, hospital_targets[i])\n",
        "                loss.backward()\n",
        "                optimizers[i].step()\n",
        "                loss = loss.get().data.item()\n",
        "                last_losses.append(loss)\n",
        "        for i in range(n_hospitals):\n",
        "            losses[i].append(last_losses[i])\n",
        "            train_acc = compute_federated_accuracy(models[i], hospital_features[i], hospital_targets[i])\n",
        "            accuracies[i].append(train_acc)\n",
        "            models[i].move(secure_worker)\n",
        "        with th.no_grad():\n",
        "            avg_weight = sum([models[i].linear.weight.data for i in range(n_hospitals)]) / n_hospitals\n",
        "            model.linear.weight.set_(avg_weight.get())\n",
        "            avg_bias = sum([models[i].linear.bias.data for i in range(n_hospitals)]) / n_hospitals\n",
        "            model.linear.bias.set_(avg_bias.get())\n",
        "        if iteration % 100 == 0:\n",
        "            losses_str = ['{:.4f}'.format(losses[i][-1]) for i in range(n_hospitals)]\n",
        "            accuracies_str = [to_percent(accuracies[i][-1]) for i in range(n_hospitals)]\n",
        "            print('Iteration={}, losses={}, accuracies={}'.format(iteration, losses_str, accuracies_str))\n",
        "    plot_federated_graphs(diagnosis_title, losses, accuracies)\n",
        "    test_acc = compute_accuracy(model, test_input, test_output)\n",
        "    print('\\nTesting Accuracy = {}'.format(to_percent(test_acc)))\n",
        "    return model"
      ],
      "metadata": {
        "id": "sratVp6fPVUS"
      },
      "execution_count": null,
      "outputs": []
    },
    {
      "cell_type": "code",
      "source": [
        "model = federated_learning(diagnosis_title1, hospital_features, hospital_targets1, test_input, test_output1)"
      ],
      "metadata": {
        "colab": {
          "base_uri": "https://localhost:8080/",
          "height": 816
        },
        "id": "XsRB-zQLPer-",
        "outputId": "09d5a54b-d840-42b0-f7e3-dd40746e82dc"
      },
      "execution_count": null,
      "outputs": [
        {
          "output_type": "stream",
          "name": "stderr",
          "text": [
            "/usr/local/lib/python3.7/dist-packages/torch/nn/_reduction.py:43: UserWarning: size_average and reduce args will be deprecated, please use reduction='mean' instead.\n",
            "  warnings.warn(warning.format(ret))\n"
          ]
        },
        {
          "output_type": "stream",
          "name": "stdout",
          "text": [
            "Iteration=0, losses=['0.6304', '0.8847', '1.3330'], accuracies=['46.43%', '64.29%', '53.57%']\n",
            "Iteration=100, losses=['1.5541', '1.4678', '1.0766'], accuracies=['46.43%', '78.57%', '53.57%']\n",
            "Iteration=200, losses=['1.2442', '0.9769', '0.9827'], accuracies=['46.43%', '64.29%', '53.57%']\n",
            "Iteration=300, losses=['0.8578', '0.5527', '0.8782'], accuracies=['46.43%', '67.86%', '53.57%']\n",
            "Iteration=400, losses=['0.5053', '0.3109', '0.7490'], accuracies=['78.57%', '89.29%', '53.57%']\n",
            "Iteration=500, losses=['0.2766', '0.2055', '0.5399'], accuracies=['85.71%', '100.00%', '67.86%']\n",
            "Iteration=600, losses=['0.1777', '0.1718', '0.2551'], accuracies=['100.00%', '100.00%', '85.71%']\n",
            "Iteration=700, losses=['0.1621', '0.1629', '0.2153'], accuracies=['100.00%', '100.00%', '100.00%']\n",
            "Iteration=800, losses=['0.1520', '0.1529', '0.2026'], accuracies=['100.00%', '100.00%', '100.00%']\n",
            "Iteration=900, losses=['0.1431', '0.1442', '0.1914'], accuracies=['100.00%', '100.00%', '100.00%']\n"
          ]
        },
        {
          "output_type": "display_data",
          "data": {
            "text/plain": [
              "<Figure size 432x288 with 1 Axes>"
            ],
            "image/png": "[encoded data removed]"
          },
          "metadata": {
            "needs_background": "light"
          }
        },
        {
          "output_type": "display_data",
          "data": {
            "text/plain": [
              "<Figure size 432x288 with 1 Axes>"
            ],
            "image/png": "[encoded data removed]"
          },
          "metadata": {
            "needs_background": "light"
          }
        },
        {
          "output_type": "stream",
          "name": "stdout",
          "text": [
            "\n",
            "Testing Accuracy = 100.00%\n"
          ]
        }
      ]
    },
    {
      "cell_type": "code",
      "source": [
        "model = federated_learning(diagnosis_title2, hospital_features, hospital_targets2, test_input, test_output2)"
      ],
      "metadata": {
        "colab": {
          "base_uri": "https://localhost:8080/",
          "height": 781
        },
        "id": "gq1GJt46t-pc",
        "outputId": "fbe993ee-25de-4652-e6da-2c794d359bdf"
      },
      "execution_count": null,
      "outputs": [
        {
          "output_type": "stream",
          "name": "stdout",
          "text": [
            "Iteration=0, losses=['1.6432', '1.4397', '1.9249'], accuracies=['57.14%', '60.71%', '53.57%']\n",
            "Iteration=100, losses=['1.1021', '0.8198', '1.4677'], accuracies=['57.14%', '60.71%', '53.57%']\n",
            "Iteration=200, losses=['1.0120', '0.7328', '1.3569'], accuracies=['57.14%', '60.71%', '53.57%']\n",
            "Iteration=300, losses=['0.9364', '0.6789', '1.2426'], accuracies=['57.14%', '60.71%', '53.57%']\n",
            "Iteration=400, losses=['0.8489', '0.6275', '1.0818'], accuracies=['57.14%', '60.71%', '53.57%']\n",
            "Iteration=500, losses=['0.7193', '0.5445', '0.8349'], accuracies=['57.14%', '60.71%', '53.57%']\n",
            "Iteration=600, losses=['0.5029', '0.3850', '0.5090'], accuracies=['64.29%', '75.00%', '60.71%']\n",
            "Iteration=700, losses=['0.2432', '0.2099', '0.2335'], accuracies=['96.43%', '92.86%', '100.00%']\n",
            "Iteration=800, losses=['0.2036', '0.1777', '0.2132'], accuracies=['100.00%', '100.00%', '100.00%']\n",
            "Iteration=900, losses=['0.1929', '0.1685', '0.2020'], accuracies=['100.00%', '100.00%', '100.00%']\n"
          ]
        },
        {
          "output_type": "display_data",
          "data": {
            "text/plain": [
              "<Figure size 432x288 with 1 Axes>"
            ],
            "image/png": "[encoded data removed]"
          },
          "metadata": {
            "needs_background": "light"
          }
        },
        {
          "output_type": "display_data",
          "data": {
            "text/plain": [
              "<Figure size 432x288 with 1 Axes>"
            ],
            "image/png": "[encoded data removed]"
          },
          "metadata": {
            "needs_background": "light"
          }
        },
        {
          "output_type": "stream",
          "name": "stdout",
          "text": [
            "\n",
            "Testing Accuracy = 100.00%\n"
          ]
        }
      ]
    }
  ]
}